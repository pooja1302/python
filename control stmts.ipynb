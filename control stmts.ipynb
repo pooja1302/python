{
 "cells": [
  {
   "cell_type": "markdown",
   "metadata": {},
   "source": [
    "# control flow statements"
   ]
  },
  {
   "cell_type": "markdown",
   "metadata": {},
   "source": [
    "## if condition\n",
    "\n",
    "\n",
    "if(condition): set of statements"
   ]
  },
  {
   "cell_type": "code",
   "execution_count": 1,
   "metadata": {},
   "outputs": [
    {
     "name": "stdout",
     "output_type": "stream",
     "text": [
      "the number is less than 15\n"
     ]
    }
   ],
   "source": [
    "x=10;\n",
    "if(x<15):\n",
    "    print(\"the number is less than 15\");"
   ]
  },
  {
   "cell_type": "code",
   "execution_count": 5,
   "metadata": {},
   "outputs": [],
   "source": [
    "x=10;\n",
    "if(x>15):\n",
    " print(\"Hello\");"
   ]
  },
  {
   "cell_type": "code",
   "execution_count": 18,
   "metadata": {},
   "outputs": [
    {
     "name": "stdout",
     "output_type": "stream",
     "text": [
      "x is lesser\n"
     ]
    }
   ],
   "source": [
    "x=10;\n",
    "if(x>20):\n",
    "    print(\"x is greater\");\n",
    "elif(x<20):\n",
    "    print(\"x is lesser\");\n",
    "else:\n",
    "    print(\"both are equal\");"
   ]
  },
  {
   "cell_type": "code",
   "execution_count": 19,
   "metadata": {},
   "outputs": [
    {
     "name": "stdout",
     "output_type": "stream",
     "text": [
      "Hello Good Afternoon\n"
     ]
    }
   ],
   "source": [
    "x=10;\n",
    "if(x>15):\n",
    "    print(\"Hello Good Morning\");\n",
    "else:\n",
    "    print(\"Hello Good Afternoon\");"
   ]
  },
  {
   "cell_type": "markdown",
   "metadata": {},
   "source": [
    "## x and y is the input find the large number of x and y"
   ]
  },
  {
   "cell_type": "code",
   "execution_count": 21,
   "metadata": {},
   "outputs": [
    {
     "name": "stdout",
     "output_type": "stream",
     "text": [
      "y is greater\n"
     ]
    }
   ],
   "source": [
    "x=10;\n",
    "y=20;\n",
    "if(x>y):\n",
    "    print(\"x is greater\");\n",
    "else:   \n",
    "    print(\"y is greater\");"
   ]
  },
  {
   "cell_type": "code",
   "execution_count": 25,
   "metadata": {},
   "outputs": [
    {
     "name": "stdout",
     "output_type": "stream",
     "text": [
      "enter x value\n",
      "enter y value\n",
      "y is greater\n"
     ]
    }
   ],
   "source": [
    "print(\"enter x value\");\n",
    "print(\"enter y value\");\n",
    "if(x>y):\n",
    "    print(\"x is greater\");\n",
    "else:   \n",
    "    print(\"y is greater\");"
   ]
  },
  {
   "cell_type": "markdown",
   "metadata": {},
   "source": [
    "# need to two numbers as input if both the numbers are same the output must be the square of first number if not the output must be multiplication of both the numbers"
   ]
  },
  {
   "cell_type": "code",
   "execution_count": 27,
   "metadata": {},
   "outputs": [
    {
     "name": "stdout",
     "output_type": "stream",
     "text": [
      "400\n"
     ]
    }
   ],
   "source": [
    "x=20;\n",
    "y=20;\n",
    "if(x==y):\n",
    "    print(x**2);\n",
    "else:\n",
    "    print(x*y);\n"
   ]
  },
  {
   "cell_type": "code",
   "execution_count": 28,
   "metadata": {},
   "outputs": [
    {
     "name": "stdout",
     "output_type": "stream",
     "text": [
      "200\n"
     ]
    }
   ],
   "source": [
    "x=10;\n",
    "y=20;\n",
    "if(x==y):\n",
    "    print(x**2);\n",
    "else:\n",
    "    print(x*y);\n"
   ]
  },
  {
   "cell_type": "markdown",
   "metadata": {},
   "source": [
    "# only one number as input and we are looking for the given number is negative, positive, zero"
   ]
  },
  {
   "cell_type": "code",
   "execution_count": 29,
   "metadata": {},
   "outputs": [
    {
     "name": "stdout",
     "output_type": "stream",
     "text": [
      "enter a value4\n",
      "number is positive\n"
     ]
    }
   ],
   "source": [
    "x=int(input(\"enter a value\"));\n",
    "if(x>0):\n",
    "    print(\"number is positive\");\n",
    "elif(x<0):\n",
    "    print(\"number is negative\");\n",
    "else:\n",
    "    print(\"number is zero\");"
   ]
  },
  {
   "cell_type": "code",
   "execution_count": 30,
   "metadata": {},
   "outputs": [
    {
     "name": "stdout",
     "output_type": "stream",
     "text": [
      "enter a value-5\n",
      "number is negative\n"
     ]
    }
   ],
   "source": [
    "x=int(input(\"enter a value\"));\n",
    "if(x>0):\n",
    "    print(\"number is positive\");\n",
    "elif(x<0):\n",
    "    print(\"number is negative\");\n",
    "else:\n",
    "    print(\"number is zero\");"
   ]
  },
  {
   "cell_type": "code",
   "execution_count": 31,
   "metadata": {},
   "outputs": [
    {
     "name": "stdout",
     "output_type": "stream",
     "text": [
      "enter a value0\n",
      "number is zero\n"
     ]
    }
   ],
   "source": [
    "x=int(input(\"enter a value\"));\n",
    "if(x>0):\n",
    "    print(\"number is positive\");\n",
    "elif(x<0):\n",
    "    print(\"number is negative\");\n",
    "else:\n",
    "    print(\"number is zero\");"
   ]
  },
  {
   "cell_type": "markdown",
   "metadata": {},
   "source": [
    "## Looping statements:\n",
    "\n",
    "1. while syntax:\n",
    "\n",
    " while(condition):\n",
    " Loop statements\n",
    " increment/decrement\n",
    " \n",
    " The loop will get executed as long as the condition returns TRUE and it terminates when the condition returns FALSE"
   ]
  },
  {
   "cell_type": "code",
   "execution_count": 32,
   "metadata": {},
   "outputs": [
    {
     "name": "stdout",
     "output_type": "stream",
     "text": [
      "1\n",
      "2\n",
      "3\n",
      "4\n",
      "5\n",
      "6\n",
      "7\n",
      "8\n",
      "9\n",
      "10\n"
     ]
    }
   ],
   "source": [
    "n=1;\n",
    "while(n<=10):\n",
    "    print(n);\n",
    "    n=n+1;"
   ]
  },
  {
   "cell_type": "markdown",
   "metadata": {},
   "source": [
    "## print the numbers from  10 to 1"
   ]
  },
  {
   "cell_type": "code",
   "execution_count": 33,
   "metadata": {
    "scrolled": true
   },
   "outputs": [
    {
     "name": "stdout",
     "output_type": "stream",
     "text": [
      "10\n",
      "9\n",
      "8\n",
      "7\n",
      "6\n",
      "5\n",
      "4\n",
      "3\n",
      "2\n",
      "1\n"
     ]
    }
   ],
   "source": [
    "n=10;\n",
    "while(n>=1):\n",
    "    print(n);\n",
    "    n=n-1;"
   ]
  },
  {
   "cell_type": "markdown",
   "metadata": {},
   "source": [
    "## print the numbers from -22 to -45"
   ]
  },
  {
   "cell_type": "code",
   "execution_count": 1,
   "metadata": {},
   "outputs": [
    {
     "name": "stdout",
     "output_type": "stream",
     "text": [
      "-22\n",
      "-23\n",
      "-24\n",
      "-25\n",
      "-26\n",
      "-27\n",
      "-28\n",
      "-29\n",
      "-30\n",
      "-31\n",
      "-32\n",
      "-33\n",
      "-34\n",
      "-35\n",
      "-36\n",
      "-37\n",
      "-38\n",
      "-39\n",
      "-40\n",
      "-41\n",
      "-42\n",
      "-43\n",
      "-44\n",
      "-45\n"
     ]
    }
   ],
   "source": [
    "n=-22;\n",
    "while(n>=-45):\n",
    "    print(n);\n",
    "    n=n-1;"
   ]
  },
  {
   "cell_type": "markdown",
   "metadata": {},
   "source": [
    "## print the sum of even numbers between 1 to 100"
   ]
  },
  {
   "cell_type": "code",
   "execution_count": 25,
   "metadata": {},
   "outputs": [
    {
     "name": "stdout",
     "output_type": "stream",
     "text": [
      "enter lower limit1\n",
      "enter upper limit100\n",
      "2450\n"
     ]
    }
   ],
   "source": [
    "x=int(input(\"enter lower limit\"));\n",
    "y=int(input(\"enter upper limit\"));\n",
    "sum=0;\n",
    "while(x!=y):\n",
    "    if(x%2==0):\n",
    "        sum=sum+x;\n",
    "    x=x+1;\n",
    "print(sum);"
   ]
  },
  {
   "cell_type": "markdown",
   "metadata": {},
   "source": [
    "## input: number \n",
    "## output: extract the digits of the number from the right side direction\n",
    "## test case:\n",
    "145      ----541"
   ]
  },
  {
   "cell_type": "code",
   "execution_count": 1,
   "metadata": {},
   "outputs": [
    {
     "name": "stdout",
     "output_type": "stream",
     "text": [
      "enter a number145\n",
      "5\n",
      "4\n",
      "1\n"
     ]
    }
   ],
   "source": [
    "n=int(input(\"enter a number\"));\n",
    "while(n!=0):\n",
    " r=n%10;\n",
    " print(r);\n",
    " n=n//10;"
   ]
  },
  {
   "cell_type": "markdown",
   "metadata": {},
   "source": [
    "## input: a number\n",
    "## output: you need to add the sum of even numbers in a given number\n",
    "## test series: \n",
    "145 -- 4\n",
    "1889  -- 16\n",
    "1951  -- 0"
   ]
  },
  {
   "cell_type": "code",
   "execution_count": 5,
   "metadata": {},
   "outputs": [
    {
     "name": "stdout",
     "output_type": "stream",
     "text": [
      "enter a number1889\n",
      "16\n"
     ]
    }
   ],
   "source": [
    "x=int(input(\"enter a number\"));\n",
    "sum=0;\n",
    "while(x!=0):\n",
    "    z=x%10;\n",
    "    if(z%2==0):\n",
    "        sum=sum+z;\n",
    "    x=x//10;\n",
    "print(sum);\n",
    "    "
   ]
  },
  {
   "cell_type": "markdown",
   "metadata": {},
   "source": [
    "## input: a number\n",
    "## output: respective name to digit\n",
    "## test cases: \n",
    "       145 ---five four one\n",
    "       1889 ---nine eight eight one\n",
    "       120 --zero two one"
   ]
  },
  {
   "cell_type": "code",
   "execution_count": 2,
   "metadata": {},
   "outputs": [
    {
     "name": "stdout",
     "output_type": "stream",
     "text": [
      "enter a number145\n",
      "five four one "
     ]
    }
   ],
   "source": [
    "n=int(input(\"enter a number\"));\n",
    "while(n!=0):\n",
    "    r=n%10;\n",
    "    n=n//10;\n",
    "    if(r==0):\n",
    "            print(\"zero\",end=\" \");\n",
    "    elif(r==1):\n",
    "            print(\"one\",end=\" \");\n",
    "    elif(r==2):\n",
    "            print('two',end=\" \");\n",
    "    elif(r==3):\n",
    "            print(\"three\",end=\" \");\n",
    "    elif(r==4):\n",
    "            print(\"four\",end=\" \");\n",
    "    elif(r==5):\n",
    "            print(\"five\",end=\" \");\n",
    "    elif(r==6):\n",
    "            print(\"six\",end=\" \");\n",
    "    elif(r==7):\n",
    "             print(\"seven\",end=\" \");\n",
    "    elif(r==8):\n",
    "            print(\"eight\",end=\" \");\n",
    "    elif(r==9):\n",
    "            print(\"nine\",end=\" \");\n",
    "            \n",
    "        "
   ]
  },
  {
   "cell_type": "markdown",
   "metadata": {},
   "source": [
    "## input: three numbers\n",
    "## output: how many times the digit is repeated between 2nd and 3rd number"
   ]
  },
  {
   "cell_type": "code",
   "execution_count": 1,
   "metadata": {},
   "outputs": [
    {
     "name": "stdout",
     "output_type": "stream",
     "text": [
      "enter a number4\n",
      "enter lower limit40\n",
      "enter upper limit45\n",
      "6\n"
     ]
    }
   ],
   "source": [
    "digit=int(input(\"enter a number\"));\n",
    "l1= int(input(\"enter lower limit\"));\n",
    "l2= int(input(\"enter upper limit\"));\n",
    "cnt = 0;\n",
    "while(l1!=l2):\n",
    "    buffer=l1;\n",
    "    while(l1!=0):\n",
    "        r=l1 % 10;\n",
    "        if(r==digit):\n",
    "            cnt= cnt+1;\n",
    "        l1= l1//10;\n",
    "    l1= buffer;\n",
    "    l1=l1+1;\n",
    "print(cnt);\n",
    "\n"
   ]
  },
  {
   "cell_type": "markdown",
   "metadata": {},
   "source": [
    "## functional programming in python\n",
    "\n",
    "functions can be used to perform the specific task in programmming\n",
    "\n",
    "function in python starts with def(keyword)\n",
    "syntax:   def functionname(parameters)"
   ]
  },
  {
   "cell_type": "markdown",
   "metadata": {},
   "source": [
    "## functional programming to print the natural numbers"
   ]
  },
  {
   "cell_type": "code",
   "execution_count": 5,
   "metadata": {},
   "outputs": [
    {
     "name": "stdout",
     "output_type": "stream",
     "text": [
      "1 2 3 4 5 6 7 8 9 \n",
      "1 2 3 4 5 6 7 8 9 10 11 12 13 14 15 \n"
     ]
    }
   ],
   "source": [
    "def printNNaturalNumbers(n):\n",
    "    cnt=1;\n",
    "    while(cnt<=n):\n",
    "        print(cnt,end=\" \");\n",
    "        cnt=cnt+1;\n",
    "    print()\n",
    "    return\n",
    "printNNaturalNumbers(9);\n",
    "printNNaturalNumbers(15);"
   ]
  },
  {
   "cell_type": "code",
   "execution_count": 10,
   "metadata": {},
   "outputs": [
    {
     "name": "stdout",
     "output_type": "stream",
     "text": [
      "120\n",
      "3628800\n"
     ]
    }
   ],
   "source": [
    "def findFact(n):\n",
    "    fact=1;\n",
    "    while(n!=0):\n",
    "        fact= fact * n\n",
    "        n=n-1;\n",
    "    return fact;\n",
    "print(findFact(5));\n",
    "print(findFact(10));"
   ]
  },
  {
   "cell_type": "markdown",
   "metadata": {},
   "source": [
    "## program to find the count of palindrome between two limits"
   ]
  },
  {
   "cell_type": "code",
   "execution_count": 27,
   "metadata": {},
   "outputs": [
    {
     "ename": "NameError",
     "evalue": "name 'CountOfPalindrome' is not defined",
     "output_type": "error",
     "traceback": [
      "\u001b[1;31m---------------------------------------------------------------------------\u001b[0m",
      "\u001b[1;31mNameError\u001b[0m                                 Traceback (most recent call last)",
      "\u001b[1;32m<ipython-input-27-1c1944ef7a00>\u001b[0m in \u001b[0;36m<module>\u001b[1;34m\u001b[0m\n\u001b[0;32m     13\u001b[0m             \u001b[0mn1\u001b[0m\u001b[1;33m=\u001b[0m\u001b[0mn1\u001b[0m\u001b[1;33m+\u001b[0m\u001b[1;36m1\u001b[0m\u001b[1;33m;\u001b[0m\u001b[1;33m\u001b[0m\u001b[1;33m\u001b[0m\u001b[0m\n\u001b[0;32m     14\u001b[0m     \u001b[1;32mreturn\u001b[0m \u001b[0mcnt\u001b[0m\u001b[1;33m;\u001b[0m\u001b[1;33m\u001b[0m\u001b[1;33m\u001b[0m\u001b[0m\n\u001b[1;32m---> 15\u001b[1;33m \u001b[0mprint\u001b[0m\u001b[1;33m(\u001b[0m\u001b[0mCountOfPalindrome\u001b[0m\u001b[1;33m(\u001b[0m\u001b[1;36m10\u001b[0m\u001b[1;33m,\u001b[0m\u001b[1;36m30\u001b[0m\u001b[1;33m)\u001b[0m\u001b[1;33m)\u001b[0m\u001b[1;33m;\u001b[0m\u001b[1;33m\u001b[0m\u001b[1;33m\u001b[0m\u001b[0m\n\u001b[0m",
      "\u001b[1;31mNameError\u001b[0m: name 'CountOfPalindrome' is not defined"
     ]
    }
   ],
   "source": [
    "def CountOfPalindromes(n1,n2):\n",
    "    cnt=0;\n",
    "    sum=0;\n",
    "    while(n1==n2):\n",
    "        buffer=n1;\n",
    "        while(n1!=0):\n",
    "            r=n1%10;\n",
    "            sum=(sum*10)+r;\n",
    "            n1=n1/10;\n",
    "        n1=buffer;\n",
    "    if(buffer==sum):\n",
    "            cnt=cnt+1;\n",
    "            n1=n1+1;\n",
    "    return cnt;\n",
    "print(CountOfPalindrome(10,30));"
   ]
  },
  {
   "cell_type": "code",
   "execution_count": null,
   "metadata": {},
   "outputs": [],
   "source": []
  }
 ],
 "metadata": {
  "kernelspec": {
   "display_name": "Python 3",
   "language": "python",
   "name": "python3"
  },
  "language_info": {
   "codemirror_mode": {
    "name": "ipython",
    "version": 3
   },
   "file_extension": ".py",
   "mimetype": "text/x-python",
   "name": "python",
   "nbconvert_exporter": "python",
   "pygments_lexer": "ipython3",
   "version": "3.7.3"
  }
 },
 "nbformat": 4,
 "nbformat_minor": 2
}
