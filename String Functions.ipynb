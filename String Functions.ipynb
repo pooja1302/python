{
 "cells": [
  {
   "cell_type": "markdown",
   "metadata": {},
   "source": [
    "### String Function - in built Functions\n",
    "#### upper()- returns string in which all the characters are in upper case\n",
    "##### lower()- returns string in which all the characters are in lower case"
   ]
  },
  {
   "cell_type": "code",
   "execution_count": 1,
   "metadata": {},
   "outputs": [
    {
     "name": "stdout",
     "output_type": "stream",
     "text": [
      "ANIL\n",
      "anil\n"
     ]
    }
   ],
   "source": [
    "str = \"Anil\"\n",
    "print(str.upper())\n",
    "print(str.lower())"
   ]
  },
  {
   "cell_type": "markdown",
   "metadata": {},
   "source": [
    "### boolean methods\n",
    "#### islower()-- Method returns the output either True or False, if it is True then given character is lowercase and if not returns False\n",
    "#### isupper()--Method returns the output either True or False if it is True the given character is upper else false\n",
    "#### isnumeric()--Method returns True and False output if the string is number True else False \n",
    "#### isalpha()--Method returns True if all are alphabets else False \n",
    "#### istitle()--True and False(String is in title case)\n",
    "#### isspace()--True and False"
   ]
  },
  {
   "cell_type": "code",
   "execution_count": 11,
   "metadata": {},
   "outputs": [
    {
     "name": "stdout",
     "output_type": "stream",
     "text": [
      "False\n",
      "True\n",
      "True\n",
      "False\n",
      "True\n",
      "False\n",
      "True\n",
      "False\n"
     ]
    }
   ],
   "source": [
    "s='Python is Easy Programming to learn and intersting'\n",
    "s1=\"python\"\n",
    "s2=\"LOWER\"\n",
    "s3=\"3456\"\n",
    "s4=\"python programming\"\n",
    "s5=\"Python Programming\"\n",
    "print(s.islower())\n",
    "print(s1.islower())\n",
    "print(s3.isnumeric())\n",
    "print(s.isalpha())\n",
    "print(s1.isalpha())\n",
    "print(s4.istitle())\n",
    "print(s5.istitle())\n",
    "print(s.isspace())"
   ]
  },
  {
   "cell_type": "code",
   "execution_count": 4,
   "metadata": {},
   "outputs": [
    {
     "name": "stdout",
     "output_type": "stream",
     "text": [
      "False\n",
      "True\n"
     ]
    }
   ],
   "source": [
    "s=\"Application\"\n",
    "s1='ANIL'\n",
    "print(s.isupper())\n",
    "print(s1.isupper())"
   ]
  },
  {
   "cell_type": "raw",
   "metadata": {},
   "source": [
    "#### string methods\n",
    "###### join()-this method will concatinate two strings\n",
    "###### split()- returns the list of \n",
    "###### replace()-"
   ]
  },
  {
   "cell_type": "code",
   "execution_count": 15,
   "metadata": {},
   "outputs": [
    {
     "name": "stdout",
     "output_type": "stream",
     "text": [
      "p y t h o n\n"
     ]
    }
   ],
   "source": [
    "str=\"python\"\n",
    "print(\" \".join(str))"
   ]
  },
  {
   "cell_type": "code",
   "execution_count": 16,
   "metadata": {},
   "outputs": [
    {
     "name": "stdout",
     "output_type": "stream",
     "text": [
      "Python,Proggramming,Easy\n"
     ]
    }
   ],
   "source": [
    "print(\",\".join([\"Python\",\"Proggramming\",\"Easy\"]))"
   ]
  },
  {
   "cell_type": "code",
   "execution_count": 22,
   "metadata": {},
   "outputs": [
    {
     "name": "stdout",
     "output_type": "stream",
     "text": [
      ",\n"
     ]
    }
   ],
   "source": [
    "lst = [\"\",\"\"]\n",
    "print(\",\".join(lst))"
   ]
  },
  {
   "cell_type": "code",
   "execution_count": 26,
   "metadata": {},
   "outputs": [
    {
     "name": "stdout",
     "output_type": "stream",
     "text": [
      "['Python,', 'Programming', ',is,', 'easy,', 'to,', 'learn']\n",
      "['Python, Progr', 'mming ,is, e', 'sy, to, le', 'rn']\n",
      "['Python', ' Programming ', 'is', ' easy', ' to', ' learn']\n"
     ]
    }
   ],
   "source": [
    "s=\"Python, Programming ,is, easy, to, learn\"\n",
    "print(s.split())\n",
    "print(s.split(\"a\"))\n",
    "print(s.split(\",\"))"
   ]
  },
  {
   "cell_type": "code",
   "execution_count": 27,
   "metadata": {},
   "outputs": [
    {
     "name": "stdout",
     "output_type": "stream",
     "text": [
      "['Python', 'Programming', 'is', 'easy', 'to', 'learn']\n",
      "2\n"
     ]
    }
   ],
   "source": [
    "s=\"Python Programming is easy to learn\"\n",
    "lst =s.split()\n",
    "print(lst)\n",
    "print(lst.index(\"is\"))"
   ]
  },
  {
   "cell_type": "code",
   "execution_count": 28,
   "metadata": {},
   "outputs": [
    {
     "name": "stdout",
     "output_type": "stream",
     "text": [
      "['P', 'y', 't', 'h', 'o', 'n', ' ', 'P', 'r', 'o', 'g', 'r', 'a', 'm', 'm', 'i', 'n', 'g', ' ', 'i', 's', ' ', 'e', 'a', 's', 'y', ' ', 't', 'o', ' ', 'l', 'e', 'a', 'r', 'n']\n"
     ]
    }
   ],
   "source": [
    "s=\"Python Programming is easy to learn\"\n",
    "lst=list(s)\n",
    "print(lst)"
   ]
  },
  {
   "cell_type": "code",
   "execution_count": 29,
   "metadata": {},
   "outputs": [
    {
     "name": "stdout",
     "output_type": "stream",
     "text": [
      "Python Proapplicationmming\n"
     ]
    }
   ],
   "source": [
    "s=\"Python Programming\"\n",
    "print(s.replace(\"gra\",\"application\"))"
   ]
  },
  {
   "cell_type": "code",
   "execution_count": 30,
   "metadata": {},
   "outputs": [
    {
     "name": "stdout",
     "output_type": "stream",
     "text": [
      "0 letters found\n"
     ]
    }
   ],
   "source": [
    "count=0\n",
    "for letter in 'Hello World':\n",
    "    if(letter=='1'):\n",
    "        count+=1\n",
    "print(count,'letters found')        "
   ]
  },
  {
   "cell_type": "markdown",
   "metadata": {},
   "source": [
    "#### Python --Tuples\n",
    "##### A tuple of seq of set of object like list\n",
    "##### The differences of list and tuples cannot be changed unlike list"
   ]
  },
  {
   "cell_type": "code",
   "execution_count": 31,
   "metadata": {},
   "outputs": [
    {
     "name": "stdout",
     "output_type": "stream",
     "text": [
      "('Python', 'Programming', 1989, 2019, 'machine learning', 'AI')\n",
      "(1, 2, 3, 4, 5)\n"
     ]
    }
   ],
   "source": [
    "t1 = (\"Python\",\"Programming\",1989,2019,\"machine learning\",\"AI\")\n",
    "t2 =(1,2,3,4,5)\n",
    "print(t1)\n",
    "print(t2)"
   ]
  },
  {
   "cell_type": "code",
   "execution_count": 37,
   "metadata": {},
   "outputs": [
    {
     "name": "stdout",
     "output_type": "stream",
     "text": [
      "t1[0]=  Python\n",
      "t1[2]=  1989\n",
      "t1[-1]=  AI\n",
      "t1[1:4]=  ('Programming', 1989, 2019)\n",
      "t1[2:-2]=  (1989, 2019)\n"
     ]
    }
   ],
   "source": [
    "t1 = (\"Python\",\"Programming\",1989,2019,\"machine learning\",\"AI\")\n",
    "print(\"t1[0]= \",t1[0])\n",
    "print(\"t1[2]= \",t1[2])\n",
    "print(\"t1[-1]= \",t1[-1])\n",
    "print(\"t1[1:4]= \",t1[1:4])\n",
    "print(\"t1[2:-2]= \",t1[2:-2])"
   ]
  },
  {
   "cell_type": "code",
   "execution_count": 43,
   "metadata": {},
   "outputs": [
    {
     "name": "stdout",
     "output_type": "stream",
     "text": [
      "('Python', 'Programming', 1989, 2019, 'machine learning', 'AI')\n",
      "6\n"
     ]
    }
   ],
   "source": [
    "t1 = (\"Python\",\"Programming\")\n",
    "t2=(1989,2019,\"machine learning\",\"AI\")\n",
    "t3=t1+t2\n",
    "print(t3)\n",
    "print(len(t3))"
   ]
  },
  {
   "cell_type": "markdown",
   "metadata": {},
   "source": [
    "## tuple methods\n",
    "### len(tuple)-length of tuple\n",
    "### max(tuple)-max value of tuple\n",
    "### min(tuple)-min value of tuple\n",
    "### cmp(tuple 1, tuple 2)--return value 1 or -1"
   ]
  },
  {
   "cell_type": "code",
   "execution_count": 44,
   "metadata": {},
   "outputs": [
    {
     "name": "stdout",
     "output_type": "stream",
     "text": [
      "2\n"
     ]
    }
   ],
   "source": [
    "print(len(t1))"
   ]
  },
  {
   "cell_type": "code",
   "execution_count": 49,
   "metadata": {},
   "outputs": [
    {
     "name": "stdout",
     "output_type": "stream",
     "text": [
      "user1[name] = anil\n",
      "user1[email] = xyz@gmail.com\n",
      "user1[Age] = 19\n",
      "user1[mobileno] = 123456890\n"
     ]
    }
   ],
   "source": [
    "user1={'name':'anil','Age':'19','email':\"xyz@gmail.com\",'mobileno':'123456890'}\n",
    "print(\"user1[name] =\",user1['name'])\n",
    "print(\"user1[email] =\",user1['email'])\n",
    "print(\"user1[Age] =\",user1['Age'])\n",
    "print(\"user1[mobileno] =\",user1['mobileno'])"
   ]
  },
  {
   "cell_type": "code",
   "execution_count": 57,
   "metadata": {},
   "outputs": [
    {
     "name": "stdout",
     "output_type": "stream",
     "text": [
      "xyz@gmail.com\n",
      "ghdh@gmail.com\n"
     ]
    }
   ],
   "source": [
    "user1={'name':'anil','age':'19','email':\"xyz@gmail.com\",'mobileno':'123456890'}\n",
    "print(user1['email'])\n",
    "user1['email']='ghdh@gmail.com'\n",
    "print(user1['email'])"
   ]
  },
  {
   "cell_type": "code",
   "execution_count": 58,
   "metadata": {},
   "outputs": [],
   "source": [
    "user1={'name':'anil','age':'19','email':\"xyz@gmail.com\",'mobileno':'123456890'}\n",
    "del user1['email']\n",
    "user1.clear()\n",
    "del user1"
   ]
  },
  {
   "cell_type": "code",
   "execution_count": 59,
   "metadata": {},
   "outputs": [
    {
     "name": "stdout",
     "output_type": "stream",
     "text": [
      "4\n"
     ]
    }
   ],
   "source": [
    "user1={'name':'anil','age':'19','email':\"xyz@gmail.com\",'mobileno':'123456890'}\n",
    "print(len(user1))"
   ]
  },
  {
   "cell_type": "code",
   "execution_count": 62,
   "metadata": {},
   "outputs": [
    {
     "name": "stdout",
     "output_type": "stream",
     "text": [
      "{'name': 'anil', 'age': '19', 'email': 'xyz@gmail.com', 'mobileno': '123456890'}\n",
      "{'name': 'anil', 'age': '19', 'email': 'xyz@gmail.com', 'mobileno': '123456890'}\n",
      "{'name': 'anil', 'age': '19', 'email': 'xyz@gmail.com', 'mobileno': '123456890', 'Address': 'Hyderabad'}\n",
      "{'name': 'anil', 'age': '19', 'email': 'xyz@gmail.com', 'mobileno': '123456890'}\n"
     ]
    }
   ],
   "source": [
    "user1={'name':'anil','age':'19','email':\"xyz@gmail.com\",'mobileno':'123456890'}\n",
    "user2 = user1.copy()\n",
    "print(user1)\n",
    "print(user2)\n",
    "user1['Address']='Hyderabad'\n",
    "print(user1)\n",
    "print(user2)"
   ]
  },
  {
   "cell_type": "code",
   "execution_count": 63,
   "metadata": {},
   "outputs": [
    {
     "name": "stdout",
     "output_type": "stream",
     "text": [
      "dict_values(['anil', '19', 'xyz@gmail.com', '123456890'])\n",
      "dict_values(['anil', '19', 'xyz@gmail.com', '123456890'])\n"
     ]
    }
   ],
   "source": [
    "user1={'name':'anil','age':'19','email':\"xyz@gmail.com\",'mobileno':'123456890'}\n",
    "user2 = user1.copy()\n",
    "print(user1.values())\n",
    "print(user2.values())"
   ]
  },
  {
   "cell_type": "markdown",
   "metadata": {},
   "source": [
    "#### Python--Dictionary\n",
    "##### user data can be separatedby comma operator.\n",
    "#### Methods\n",
    "###### 1.len(dictobj)--returns a number which having length.\n",
    "######  2.str(dicobj)--returns the equ string to dic object.\n",
    "######  3.copy()--copies the one dic object data to another dic\n",
    "\n"
   ]
  },
  {
   "cell_type": "code",
   "execution_count": 5,
   "metadata": {},
   "outputs": [
    {
     "name": "stdout",
     "output_type": "stream",
     "text": [
      "Contact Anil added\n",
      "Contact Pooja added\n",
      "Contact Anil already exists\n"
     ]
    }
   ],
   "source": [
    "contact= {}\n",
    "def addContact(name,phone):\n",
    "    #verify that the contact doesnot already exists\n",
    "    if name not in contact:\n",
    "        contact[name] =phone\n",
    "        print(\"Contact %s added\" % name)\n",
    "    else:\n",
    "        print(\"Contact %s already exists\" % name)\n",
    "    return\n",
    "addContact(\"Anil\",95137521)\n",
    "addContact(\"Pooja\",996633221)\n",
    "addContact(\"Anil\",9988774466)"
   ]
  },
  {
   "cell_type": "code",
   "execution_count": 13,
   "metadata": {},
   "outputs": [
    {
     "name": "stdout",
     "output_type": "stream",
     "text": [
      "Anil : 95137521\n",
      "Pooja : 996633221\n",
      "Harsha does not exists\n",
      "Kranth does not exists\n"
     ]
    }
   ],
   "source": [
    "def searchContact(name):\n",
    "    if name in contact:\n",
    "        print(name,\":\",contact[name])\n",
    "    else:\n",
    "        print(\"%s does not exists\" % name)\n",
    "    return\n",
    "searchContact(\"Anil\")\n",
    "searchContact(\"Pooja\")\n",
    "searchContact(\"Harsha\")\n",
    "searchContact(\"Kranth\")"
   ]
  },
  {
   "cell_type": "code",
   "execution_count": 16,
   "metadata": {},
   "outputs": [
    {
     "name": "stdout",
     "output_type": "stream",
     "text": [
      "2 contact added successful\n"
     ]
    }
   ],
   "source": [
    "#New Contacts is given as a dictionary \n",
    "#Merge new contact with existing contacts list\n",
    "def importContact(newContact):\n",
    "    contact.update(newContact)\n",
    "    print(len(newContact.keys()),\"contact added successful\")\n",
    "    return\n",
    "newContact={'Dinesh':986543210,'ajay':123456890}\n",
    "importContact(newContact)"
   ]
  },
  {
   "cell_type": "code",
   "execution_count": 19,
   "metadata": {},
   "outputs": [
    {
     "name": "stdout",
     "output_type": "stream",
     "text": [
      "{'Anil': 95137521, 'Pooja': 996633221, 'Dinesh': 986543210, 'ajay': 123456890}\n"
     ]
    }
   ],
   "source": [
    "print(contact)"
   ]
  },
  {
   "cell_type": "code",
   "execution_count": 23,
   "metadata": {},
   "outputs": [
    {
     "name": "stdout",
     "output_type": "stream",
     "text": [
      "Pooja : is deleted from the contact\n",
      "Naveen : is not exists in the contact\n"
     ]
    }
   ],
   "source": [
    "#Delete a contact from contact list\n",
    "def deleteContact(name):\n",
    "    if name in contact:\n",
    "        del contact[name]\n",
    "        print(name,\": is deleted from the contact\")\n",
    "    else:\n",
    "         print(name,\": is not exists in the contact\")\n",
    "    return\n",
    "deleteContact(\"Pooja\")\n",
    "deleteContact(\"Naveen\")"
   ]
  },
  {
   "cell_type": "code",
   "execution_count": 25,
   "metadata": {},
   "outputs": [
    {
     "name": "stdout",
     "output_type": "stream",
     "text": [
      "{'Anil': 95137521, 'Dinesh': 986543210, 'ajay': 123456890}\n"
     ]
    }
   ],
   "source": [
    "print(contact)"
   ]
  },
  {
   "cell_type": "code",
   "execution_count": 32,
   "metadata": {},
   "outputs": [
    {
     "name": "stdout",
     "output_type": "stream",
     "text": [
      "Anil :Updated with new phone number\n",
      "Harsha Not exists in the contacts\n"
     ]
    }
   ],
   "source": [
    "def updateContact(name,phone):\n",
    "    if name in contact:\n",
    "        contact[name]=phone\n",
    "        print(name,\":Updated with new phone number\")\n",
    "    else:\n",
    "        print(name,\"Not exists in the contacts\")\n",
    "    return\n",
    "updateContact(\"Anil\",9966552211)\n",
    "updateContact(\"Harsha\",9988774422)"
   ]
  },
  {
   "cell_type": "code",
   "execution_count": 29,
   "metadata": {},
   "outputs": [
    {
     "data": {
      "text/plain": [
       "123"
      ]
     },
     "execution_count": 29,
     "metadata": {},
     "output_type": "execute_result"
    }
   ],
   "source": [
    "from math import floor as f1\n",
    "f1(123.456)"
   ]
  },
  {
   "cell_type": "code",
   "execution_count": 30,
   "metadata": {},
   "outputs": [
    {
     "data": {
      "text/plain": [
       "120"
      ]
     },
     "execution_count": 30,
     "metadata": {},
     "output_type": "execute_result"
    }
   ],
   "source": [
    "from math import factorial as fact\n",
    "fact(5)"
   ]
  },
  {
   "cell_type": "code",
   "execution_count": 31,
   "metadata": {},
   "outputs": [
    {
     "data": {
      "text/plain": [
       "120"
      ]
     },
     "execution_count": 31,
     "metadata": {},
     "output_type": "execute_result"
    }
   ],
   "source": [
    "import math\n",
    "math.factorial(5)"
   ]
  },
  {
   "cell_type": "markdown",
   "metadata": {},
   "source": [
    "### packages and modules\n",
    "##### package: collection of modules\n",
    "##### subpackages;its part of main packages\n",
    "###### module:a single python files contains site of operations\n",
    "###### package-->sub-package-->modules-->functions"
   ]
  },
  {
   "cell_type": "code",
   "execution_count": 35,
   "metadata": {},
   "outputs": [
    {
     "name": "stdout",
     "output_type": "stream",
     "text": [
      "16 69 55 104 64 28 82 97 36 73 "
     ]
    }
   ],
   "source": [
    "# generate the random numbers between two limits\n",
    "import random\n",
    "def generateRandomNumbers(n,lb,ub):\n",
    "    for i in range(0,n):\n",
    "        print(random.randint(lb,ub),end=\" \")\n",
    "    return\n",
    "generateRandomNumbers(10,12,120)"
   ]
  },
  {
   "cell_type": "code",
   "execution_count": 39,
   "metadata": {},
   "outputs": [
    {
     "ename": "SyntaxError",
     "evalue": "invalid character in identifier (<ipython-input-39-2fdb38822e70>, line 1)",
     "output_type": "error",
     "traceback": [
      "\u001b[1;36m  File \u001b[1;32m\"<ipython-input-39-2fdb38822e70>\"\u001b[1;36m, line \u001b[1;32m1\u001b[0m\n\u001b[1;33m    d = {“Anil”:28, “Harsha”:29}\u001b[0m\n\u001b[1;37m              ^\u001b[0m\n\u001b[1;31mSyntaxError\u001b[0m\u001b[1;31m:\u001b[0m invalid character in identifier\n"
     ]
    }
   ],
   "source": [
    "d = {“Anil”:28, “Harsha”:29}\n",
    "size(d)"
   ]
  },
  {
   "cell_type": "code",
   "execution_count": null,
   "metadata": {},
   "outputs": [],
   "source": []
  }
 ],
 "metadata": {
  "kernelspec": {
   "display_name": "Python 3",
   "language": "python",
   "name": "python3"
  },
  "language_info": {
   "codemirror_mode": {
    "name": "ipython",
    "version": 3
   },
   "file_extension": ".py",
   "mimetype": "text/x-python",
   "name": "python",
   "nbconvert_exporter": "python",
   "pygments_lexer": "ipython3",
   "version": "3.7.3"
  }
 },
 "nbformat": 4,
 "nbformat_minor": 2
}
