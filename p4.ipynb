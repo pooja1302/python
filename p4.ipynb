{
 "cells": [
  {
   "cell_type": "code",
   "execution_count": 2,
   "metadata": {},
   "outputs": [
    {
     "name": "stdout",
     "output_type": "stream",
     "text": [
      "90\n"
     ]
    }
   ],
   "source": [
    "def printEven(n):\n",
    "    cnt = 0;\n",
    "    sum = 0;\n",
    "    while(cnt!=n):\n",
    "        if(cnt%2==0):\n",
    "            sum=sum+cnt;\n",
    "        cnt=cnt+1;\n",
    "    return sum;\n",
    "print(printEven(20));"
   ]
  },
  {
   "cell_type": "markdown",
   "metadata": {},
   "source": [
    "# Example Functional Programming\n",
    "## factors of a given number"
   ]
  },
  {
   "cell_type": "code",
   "execution_count": 6,
   "metadata": {},
   "outputs": [
    {
     "name": "stdout",
     "output_type": "stream",
     "text": [
      "1 2 3 4 6 "
     ]
    }
   ],
   "source": [
    "def factorsList(n):\n",
    "    i=1;\n",
    "    while(i!=n):\n",
    "        if(n%i==0):\n",
    "            print(i,end=\" \");\n",
    "        i=i+1;\n",
    "    return;\n",
    "factorsList(12);"
   ]
  },
  {
   "cell_type": "markdown",
   "metadata": {},
   "source": [
    "## list in python\n",
    " \n",
    " list can be written in python with square brackets and each item in the list seperated by comma operator\n",
    " \n",
    "list can be anything -- int, char, float, and string\n",
    "\n",
    "\n",
    "#### Examples of list\n",
    "\n",
    "list1 = [1,2,3,4,5]\n",
    "list2 = [\"a\",\"b\",\"c\"]\n",
    "list3 = ['maths','science',128.265]"
   ]
  },
  {
   "cell_type": "code",
   "execution_count": 8,
   "metadata": {},
   "outputs": [
    {
     "name": "stdout",
     "output_type": "stream",
     "text": [
      "[1, 2, 3, 4, 5]\n",
      "1\n"
     ]
    }
   ],
   "source": [
    "list1 = [1,2,3,4,5];\n",
    "#Entire list\n",
    "print(list1);\n",
    "#list[0]\n",
    "print(list1[0])\n"
   ]
  },
  {
   "cell_type": "markdown",
   "metadata": {},
   "source": [
    "### for loop\n",
    " \n",
    "# syntax:\n",
    "                for<variableName> in <seq>:\n",
    "                        <Statements>"
   ]
  },
  {
   "cell_type": "code",
   "execution_count": 14,
   "metadata": {},
   "outputs": [
    {
     "name": "stdout",
     "output_type": "stream",
     "text": [
      "['akhil', 'aravind', 'pullamma niharika', 'mrs akash']\n",
      "aravind\n"
     ]
    }
   ],
   "source": [
    "list2 = [\"akhil\",\"aravind\", \"pullamma niharika\",\"mrs akash\"];\n",
    "print(list2);\n",
    "print(list2[1]);"
   ]
  },
  {
   "cell_type": "markdown",
   "metadata": {},
   "source": [
    "# List example with particular index"
   ]
  },
  {
   "cell_type": "code",
   "execution_count": 19,
   "metadata": {},
   "outputs": [
    {
     "name": "stdout",
     "output_type": "stream",
     "text": [
      "1 2 3 4 5 6 7 \n",
      "5\n",
      "[4, 5, 6, 7]\n",
      "[1, 2, 3]\n",
      "[1, 2, 3]\n",
      "[1, 2, 3, 4, 5, 6, 7]\n"
     ]
    }
   ],
   "source": [
    "list1 = [1,2,3,4,5,6,7]\n",
    "for x in list1:\n",
    "    print(x,end=\" \")\n",
    "print();\n",
    "print(list1[4]);\n",
    "print(list1[3:7]);\n",
    "print(list1[0:3]);\n",
    "print(list1[:3]);\n",
    "print(list1[:7]);"
   ]
  },
  {
   "cell_type": "code",
   "execution_count": 28,
   "metadata": {},
   "outputs": [
    {
     "name": "stdout",
     "output_type": "stream",
     "text": [
      "1 2 3 4 5 6 7 8 9 10 \n",
      "[2, 3, 4, 5, 6, 7, 8, 9]\n",
      "[3, 4, 5, 6, 7, 8]\n",
      "[1, 3, 5, 7, 9]\n",
      "[1, 4, 7, 10]\n",
      "[1, 5, 9]\n",
      "[10, 8, 6, 4, 2]\n"
     ]
    }
   ],
   "source": [
    "list1 = [1,2,3,4,5,6,7,8,9,10];\n",
    "for x in list1:\n",
    "    print(x,end =\" \")\n",
    "print();\n",
    "print(list1[1:-1]);\n",
    "print(list1[2:-2]);\n",
    "print(list1[::2]);\n",
    "print(list1[::3]);\n",
    "print(list1[::4]);\n",
    "print(list1[::-2]);"
   ]
  },
  {
   "cell_type": "code",
   "execution_count": 34,
   "metadata": {},
   "outputs": [
    {
     "name": "stdout",
     "output_type": "stream",
     "text": [
      "1 2 3 4 5 6 7 8 9 10 \n"
     ]
    }
   ],
   "source": [
    "list1 = [1,2,3,4,5,6,7,8,9,10];\n",
    "i=0;\n",
    "while(i<len(list1)):\n",
    "    print(list1[i],end =\" \");\n",
    "    i=i+1;\n",
    "print();"
   ]
  },
  {
   "cell_type": "code",
   "execution_count": 36,
   "metadata": {},
   "outputs": [
    {
     "name": "stdout",
     "output_type": "stream",
     "text": [
      "['Anil', 'Adarsh', 'Adarsh', 1]\n",
      "['Anil', 'Adarsh', 15, 1]\n",
      "['Anil', 'Adarsh', 15]\n",
      "['Anil', 'Gitam', 15]\n",
      "[1, 2, 3]\n",
      "['Anil', 'Gitam', 15, 1, 2, 3]\n"
     ]
    }
   ],
   "source": [
    "list1 = [\"Anil\",\"Adarsh\",\"Adarsh\",1];\n",
    "print(list1);\n",
    "list1[2] = 15;#update the list item\n",
    "print(list1);\n",
    "\n",
    "del list1[3];#delete the list item\n",
    "print(list1);\n",
    "\n",
    "list1[1] = \"Gitam\";\n",
    "print(list1);\n",
    "\n",
    "list2 = [1,2,3];\n",
    "print(list2);\n",
    "print(list1+list2);# concatination of both the lists\n",
    "\n"
   ]
  },
  {
   "cell_type": "code",
   "execution_count": 44,
   "metadata": {},
   "outputs": [
    {
     "name": "stdout",
     "output_type": "stream",
     "text": [
      "[1, 2, 3, 4, 5]\n",
      "[1, 2, 4, 5]\n",
      "4\n",
      "[1, 2, 15, 5, 15]\n",
      "[1, 2, 15, 5, 15, 150]\n"
     ]
    }
   ],
   "source": [
    "list1= [1,2,3,4,5]\n",
    "print(list1);\n",
    "del list1[2];\n",
    "print(list1);\n",
    "list1[2] = 15;\n",
    "print(len(list1));#used to find the length of the list\n",
    "list1.append(15);\n",
    "print(list1);\n",
    "list1.append(150);\n",
    "print(list1);"
   ]
  },
  {
   "cell_type": "markdown",
   "metadata": {},
   "source": [
    "## List Method:\n",
    "#### append(obj)\n",
    " this method appends a passed object into the existing list\n",
    " \n",
    " #### count(obj)\n",
    " this method returns the count of obj how many times in the list"
   ]
  },
  {
   "cell_type": "code",
   "execution_count": 49,
   "metadata": {},
   "outputs": [
    {
     "name": "stdout",
     "output_type": "stream",
     "text": [
      "[0, 1, 2, 3, 4, 5]\n",
      "[0, 1, 2, 3, 4, 5, 15]\n",
      "[0, 1, 2, 3, 4, 5, 15, 21, 14, 36, [0.1, 0.2]]\n",
      "1\n",
      "1\n",
      "0\n"
     ]
    }
   ],
   "source": [
    "list1= [0,1,2,3,4,5]\n",
    "print(list1);\n",
    "list1.append(15);\n",
    "print(list1);\n",
    "list1.append(21);\n",
    "list1.append(14);\n",
    "list1.append(36);\n",
    "list1.append([0.1,0.2]);\n",
    "print(list1);\n",
    "print(list1.count(1));\n",
    "print(list1.count(3));\n",
    "print(list1.count(20));"
   ]
  },
  {
   "cell_type": "markdown",
   "metadata": {},
   "source": [
    "## List with range() function\n",
    "\n",
    "    range(number):\n",
    "     0 to number"
   ]
  },
  {
   "cell_type": "code",
   "execution_count": 52,
   "metadata": {},
   "outputs": [
    {
     "name": "stdout",
     "output_type": "stream",
     "text": [
      "['Gitam', 'python', 'raptor', 1, 5, 'python', 'python']\n",
      "7\n",
      "['Gitam', 'python', 2019, 'raptor', 1, 5, 'python', 'python']\n",
      "8\n",
      "['Gitam', 'python', 2019, 'raptor', 2020, 1, 5, 'python', 'python']\n"
     ]
    }
   ],
   "source": [
    "list1 = [\"Gitam\",\"python\",\"raptor\",1,5,\"python\",\"python\"]\n",
    "print(list1)\n",
    "list1.index(\"python\")#finding the index of object in the list\n",
    "list1.index(1)\n",
    "print(len(list1))\n",
    "list1.insert(2,2019)\n",
    "print(list1)\n",
    "print(len(list1))\n",
    "list1.insert(4,2020)\n",
    "print(list1)"
   ]
  },
  {
   "cell_type": "markdown",
   "metadata": {},
   "source": [
    "## index(obj)\n",
    "\n",
    "     it returns the index of passed object first occurance from the left side.\n",
    "     \n",
    "     \n",
    "     \n",
    "#### insert(index,obj)\n",
    "\n",
    "\n",
    "     the insert inserts the passed object at certain index.\n",
    "     \n",
    "     \n",
    "     \n",
    "#### remove(obj)\n",
    "\n",
    "\n",
    "      the remove method removes the passed object from the first occurance from left direction\n",
    "      \n",
    "      \n",
    "      \n",
    "#### reverse()\n",
    "\n",
    "\n",
    "      the reverse() reverses the objects of the list"
   ]
  },
  {
   "cell_type": "code",
   "execution_count": 55,
   "metadata": {},
   "outputs": [
    {
     "name": "stdout",
     "output_type": "stream",
     "text": [
      "['Gitam', 'python', 'raptor', 1, 5, 'python', 'python']\n",
      "['Gitam', 'raptor', 1, 5, 'python', 'python']\n",
      "['Gitam', 'raptor', 1, 5, 'python']\n",
      "['python', 5, 1, 'raptor', 'Gitam']\n"
     ]
    }
   ],
   "source": [
    "list1 = [\"Gitam\",\"python\",\"raptor\",1,5,\"python\",\"python\"]\n",
    "print(list1)\n",
    "list1.remove(\"python\")#finding the remove of object in the list\n",
    "print(list1)\n",
    "list1.remove(\"python\")\n",
    "print(list1)\n",
    "\n",
    "list1.reverse()\n",
    "print(list1)"
   ]
  },
  {
   "cell_type": "markdown",
   "metadata": {},
   "source": [
    "## data structures\n",
    "#### searching the data\n",
    "    #### Linear Search\n",
    "    #### Binary Search\n",
    "#### sort the data\n",
    "#### store the data"
   ]
  },
  {
   "cell_type": "markdown",
   "metadata": {},
   "source": [
    "## Linear Search\n",
    "  ** this can be applied on sorted list/unsorted list\n",
    "  ** this can be applied on unique list/duplicate list"
   ]
  },
  {
   "cell_type": "code",
   "execution_count": 70,
   "metadata": {},
   "outputs": [
    {
     "name": "stdout",
     "output_type": "stream",
     "text": [
      "Target item is found\n"
     ]
    }
   ],
   "source": [
    "def linearSearch(a,tarItem):\n",
    "    i=0;\n",
    "    flag=0;\n",
    "    for i in range(len(a)):\n",
    "        if(a[i]==tarItem):\n",
    "            flag=1;\n",
    "            break\n",
    "    if(flag!=0):\n",
    "           print(\"Target item is found\")\n",
    "    else:\n",
    "           print(\"Target item is not found\")\n",
    "a=[16,2,12,6,9,7,1]          \n",
    "linearSearch(a,16)"
   ]
  },
  {
   "cell_type": "code",
   "execution_count": 78,
   "metadata": {},
   "outputs": [
    {
     "name": "stdout",
     "output_type": "stream",
     "text": [
      "2\n"
     ]
    }
   ],
   "source": [
    "def linearSearchDuplicate(a,tarItem):\n",
    "  \n",
    "    flag=0\n",
    "    for i in range(len(a)):\n",
    "        if a[i]==tarItem:\n",
    "            flag=flag+1\n",
    "         \n",
    "    print(flag)\n",
    "\n",
    "a=[9,1,6,1,5,9,15,16]          \n",
    "linearSearch(a,9)"
   ]
  },
  {
   "cell_type": "code",
   "execution_count": 1,
   "metadata": {},
   "outputs": [
    {
     "name": "stdout",
     "output_type": "stream",
     "text": [
      "\n"
     ]
    }
   ],
   "source": [
    "a = [1,2,3,4,5];\n",
    "print()"
   ]
  },
  {
   "cell_type": "code",
   "execution_count": 2,
   "metadata": {},
   "outputs": [
    {
     "name": "stdout",
     "output_type": "stream",
     "text": [
      "[1]\n",
      "[1, 2]\n",
      "[1, 2, 3]\n"
     ]
    },
    {
     "data": {
      "text/plain": [
       "[1, 2, 3]"
      ]
     },
     "execution_count": 2,
     "metadata": {},
     "output_type": "execute_result"
    }
   ],
   "source": [
    "def f(i, values =[]):\n",
    "    values.append(i)\n",
    "    print(values)\n",
    "    return values\n",
    "f(1)\n",
    "f(2)\n",
    "f(3)"
   ]
  },
  {
   "cell_type": "markdown",
   "metadata": {},
   "source": [
    "## example1\n",
    "#### input: list\n",
    "#### output:Indexes of target item\n",
    " \n",
    " test cases:\n",
    "  1,5,9,6,5,15,12,5 ------1,4,7"
   ]
  },
  {
   "cell_type": "code",
   "execution_count": 6,
   "metadata": {},
   "outputs": [
    {
     "name": "stdout",
     "output_type": "stream",
     "text": [
      "1 4 7 "
     ]
    }
   ],
   "source": [
    "def linearExample1(a,tarItem):\n",
    "\n",
    "    for i in range(len(a)):\n",
    "        if(a[i]==tarItem):\n",
    "            print(i,end=\" \")\n",
    "a=[1,5,9,6,5,15,12,5]\n",
    "linearExample1(a,5)"
   ]
  },
  {
   "cell_type": "markdown",
   "metadata": {},
   "source": [
    "#### Linear Search Example 2\n",
    "# input: a List\n",
    "# output: a seq of characters\n",
    "Test cases:\n",
    "[1,5,9,6,5,15,12,5] tar=5"
   ]
  },
  {
   "cell_type": "code",
   "execution_count": 12,
   "metadata": {},
   "outputs": [
    {
     "name": "stdout",
     "output_type": "stream",
     "text": [
      "!! !!!!! !!!!!!!! "
     ]
    }
   ],
   "source": [
    "def linearExample1(a,tarItem):\n",
    "\n",
    "    for i in range(len(a)):\n",
    "        if(a[i]==tarItem):\n",
    "            print(\"!\"*(i+1),end=\" \")\n",
    "a=[1,5,9,6,5,15,12,5]\n",
    "linearExample1(a,5)"
   ]
  },
  {
   "cell_type": "code",
   "execution_count": 14,
   "metadata": {},
   "outputs": [
    {
     "name": "stdout",
     "output_type": "stream",
     "text": [
      "! !  ! ! ! ! !  ! ! ! ! ! ! ! !  "
     ]
    }
   ],
   "source": [
    "def linearExample1(a,tarItem):\n",
    "\n",
    "    for i in range(len(a)):\n",
    "        if(a[i]==tarItem):\n",
    "            j=0\n",
    "            while j!=i+1:\n",
    "                print(\"!\",end=\" \")\n",
    "                j=j+1\n",
    "            print(end =\" \")\n",
    "a=[1,5,9,6,5,15,12,5]\n",
    "linearExample1(a,5)"
   ]
  },
  {
   "cell_type": "code",
   "execution_count": 16,
   "metadata": {},
   "outputs": [
    {
     "name": "stdout",
     "output_type": "stream",
     "text": [
      "p p  p p p p p  p p p p p p p p  "
     ]
    }
   ],
   "source": [
    "def linearExample1(a,tarItem):\n",
    "\n",
    "    for i in range(len(a)):\n",
    "        if(a[i]==tarItem):\n",
    "            j=0\n",
    "            while j!=i+1:\n",
    "                print(\"p\",end=\" \")\n",
    "                j=j+1\n",
    "            print(end =\" \")\n",
    "a=[1,5,9,6,5,15,12,5]\n",
    "linearExample1(a,5)"
   ]
  },
  {
   "cell_type": "markdown",
   "metadata": {},
   "source": [
    "## input : list; output: as given; eg: perfect multiple of 3 and 5\n",
    "#### 15,12,2,9,45,18,36, --------- 15+45--60"
   ]
  },
  {
   "cell_type": "code",
   "execution_count": 52,
   "metadata": {},
   "outputs": [
    {
     "name": "stdout",
     "output_type": "stream",
     "text": [
      "60\n"
     ]
    }
   ],
   "source": [
    "def linearExample3(a):\n",
    "    sum=0;\n",
    "    for i in range(len(a)):\n",
    "        if(a[i]%3==0 and a[i]%5==0):\n",
    "            sum=sum+a[i];\n",
    "    print(sum);\n",
    "a=[15,12,2,9,45,18,36]\n",
    "linearExample3(a)"
   ]
  },
  {
   "cell_type": "markdown",
   "metadata": {},
   "source": [
    "## input:list\n",
    "## output:formatted output\n",
    "## test cases\n",
    "[1,2,3,4,5]  -----1 3 8 15 5"
   ]
  },
  {
   "cell_type": "code",
   "execution_count": 61,
   "metadata": {},
   "outputs": [
    {
     "name": "stdout",
     "output_type": "stream",
     "text": [
      "1\n",
      "3\n",
      "8\n",
      "15\n",
      "5\n"
     ]
    }
   ],
   "source": [
    "def linearExample4(a):\n",
    "    i=0;\n",
    "    for i in range(len(a)):\n",
    "        if(i==len(a)-1 or i==0):\n",
    "            print(a[i]);\n",
    "        else:\n",
    "            print(a[i-1]*a[i+1])\n",
    "a=[1,2,3,4,5]\n",
    "linearExample4(a)\n",
    "            "
   ]
  },
  {
   "cell_type": "code",
   "execution_count": 63,
   "metadata": {},
   "outputs": [
    {
     "name": "stdout",
     "output_type": "stream",
     "text": [
      "1\n",
      "9\n",
      "19\n",
      "22\n"
     ]
    }
   ],
   "source": [
    "def linearExample5(a):\n",
    "    i=0;\n",
    "    for i in range(len(a)):\n",
    "        if(i==len(a)-1 or i==0):\n",
    "            print(a[i]);\n",
    "        elif(a[i-1]%2==0 and a[i+1]%2==0):\n",
    "            print(a[i])\n",
    "a=[1,6,9,4,16,19,22]\n",
    "linearExample5(a)"
   ]
  },
  {
   "cell_type": "markdown",
   "metadata": {},
   "source": [
    "### example on linear search\n",
    "# input:a number\n",
    "# output:list\n",
    "#### Test cases:\n",
    "14569   ---1,4,5,6,9"
   ]
  },
  {
   "cell_type": "code",
   "execution_count": 7,
   "metadata": {},
   "outputs": [
    {
     "name": "stdout",
     "output_type": "stream",
     "text": [
      "enter a number14569\n",
      "[1, 4, 5, 6, 9]\n"
     ]
    }
   ],
   "source": [
    "def numberToListConversion(n):\n",
    "    list= []\n",
    "    while n!=0:\n",
    "     \n",
    "        list.append(n%10)\n",
    "        n=n//10\n",
    "    list.reverse()\n",
    "    print(list)\n",
    "\n",
    "n = int(input(\"enter a number\"))\n",
    "numberToListConversion(n)\n",
    "        "
   ]
  },
  {
   "cell_type": "markdown",
   "metadata": {},
   "source": [
    "### List to Number Conversion\n",
    "\n",
    "[1,4,5,6,9]  --- 14569\n",
    "[1,4,5,6,9]  ---46(you have considered only even in the list\n",
    "14569  ---[4,6](you have considered only even digits to list)"
   ]
  },
  {
   "cell_type": "code",
   "execution_count": 17,
   "metadata": {},
   "outputs": [
    {
     "name": "stdout",
     "output_type": "stream",
     "text": [
      "14569"
     ]
    }
   ],
   "source": [
    "def listToNumberConversion(a):\n",
    "    for i in range(len(a)):\n",
    "        print(a[i],end=\"\");\n",
    "a=[1,4,5,6,9];\n",
    "listToNumberConversion(a)"
   ]
  },
  {
   "cell_type": "code",
   "execution_count": 18,
   "metadata": {},
   "outputs": [
    {
     "name": "stdout",
     "output_type": "stream",
     "text": [
      "46"
     ]
    }
   ],
   "source": [
    "def listToNumberConversion(a):\n",
    "    for i in range(len(a)):\n",
    "        if(a[i]%2==0):\n",
    "            print(a[i],end=\"\");\n",
    "a=[1,4,5,6,9];\n",
    "listToNumberConversion(a)"
   ]
  },
  {
   "cell_type": "code",
   "execution_count": 28,
   "metadata": {},
   "outputs": [
    {
     "name": "stdout",
     "output_type": "stream",
     "text": [
      "enter a number14569\n",
      "[4, 6]\n"
     ]
    }
   ],
   "source": [
    "def numberToListConversion(n):\n",
    "    list= []\n",
    "    while n!=0:\n",
    "        r=n%10;\n",
    "        if(r%2==0):\n",
    "            list.append(r)\n",
    "        n=n//10\n",
    "    list.reverse()\n",
    "    \n",
    "    print(list)\n",
    "\n",
    "n = int(input(\"enter a number\"))\n",
    "numberToListConversion(n)\n",
    "        "
   ]
  },
  {
   "cell_type": "code",
   "execution_count": 2,
   "metadata": {},
   "outputs": [
    {
     "name": "stdout",
     "output_type": "stream",
     "text": [
      "[1, 4, 3, 16, 5]\n"
     ]
    }
   ],
   "source": [
    "def listToMultiplyevennumbers(a):\n",
    "    list= []\n",
    "    for i in range(len(a)):\n",
    "        if(a[i]%2==0): \n",
    "            list.append(a[i]**2)\n",
    "        else:\n",
    "             list.append(a[i])\n",
    "    print(list)\n",
    "                \n",
    "            \n",
    "a=[1,2,3,4,5];\n",
    "listToMultiplyevennumbers(a)"
   ]
  },
  {
   "cell_type": "code",
   "execution_count": 3,
   "metadata": {},
   "outputs": [
    {
     "name": "stdout",
     "output_type": "stream",
     "text": [
      "[15, 34, 31, 28, 4]\n"
     ]
    }
   ],
   "source": [
    "def sum(a):\n",
    "    list=[]\n",
    "    for i in range(len(a)):\n",
    "        if(i==0 or i==len(a)-1):\n",
    "             list.append(a[i])\n",
    "        else:\n",
    "            b=a[i]+a[i-1]\n",
    "            list.append(b)\n",
    "    print(list)\n",
    "a=[15,19,12,16,4]\n",
    "sum(a)    "
   ]
  },
  {
   "cell_type": "code",
   "execution_count": null,
   "metadata": {},
   "outputs": [],
   "source": []
  }
 ],
 "metadata": {
  "kernelspec": {
   "display_name": "Python 3",
   "language": "python",
   "name": "python3"
  },
  "language_info": {
   "codemirror_mode": {
    "name": "ipython",
    "version": 3
   },
   "file_extension": ".py",
   "mimetype": "text/x-python",
   "name": "python",
   "nbconvert_exporter": "python",
   "pygments_lexer": "ipython3",
   "version": "3.7.3"
  }
 },
 "nbformat": 4,
 "nbformat_minor": 2
}
